{
 "cells": [
  {
   "cell_type": "markdown",
   "metadata": {},
   "source": [
    "# MPO 624: Assignment for Maximum Covariance Analysis\n",
    "#### Becca Hammersla\n",
    "#### 4/25/18"
   ]
  },
  {
   "cell_type": "markdown",
   "metadata": {},
   "source": [
    "## 1.2 (a)"
   ]
  },
  {
   "cell_type": "code",
   "execution_count": 1,
   "metadata": {},
   "outputs": [],
   "source": [
    "import numpy as np\n",
    "from netCDF4 import Dataset"
   ]
  },
  {
   "cell_type": "code",
   "execution_count": 2,
   "metadata": {},
   "outputs": [
    {
     "name": "stdout",
     "output_type": "stream",
     "text": [
      "[[1 2]\n",
      " [3 4]\n",
      " [5 6]]\n"
     ]
    }
   ],
   "source": [
    "#create matrix\n",
    "m = np.array([[1,2], [3,4], [5,6]])\n",
    "print(m)"
   ]
  },
  {
   "cell_type": "code",
   "execution_count": 3,
   "metadata": {},
   "outputs": [
    {
     "name": "stdout",
     "output_type": "stream",
     "text": [
      "u = [[-0.2298477   0.88346102  0.40824829]\n",
      " [-0.52474482  0.24078249 -0.81649658]\n",
      " [-0.81964194 -0.40189603  0.40824829]]\n",
      "\n",
      "s = [9.52551809 0.51430058]\n",
      "\n",
      "vt =  [[-0.61962948 -0.78489445]\n",
      " [-0.78489445  0.61962948]]\n",
      "\n"
     ]
    }
   ],
   "source": [
    "#calculate left, right, singular value matrix\n",
    "u,s,vt = np.linalg.svd(m)\n",
    "print('u =', u); print ('')\n",
    "print('s =', s); print ('')\n",
    "print('vt = ', vt); print ('')"
   ]
  },
  {
   "cell_type": "code",
   "execution_count": 4,
   "metadata": {},
   "outputs": [
    {
     "name": "stdout",
     "output_type": "stream",
     "text": [
      "[[1. 2.]\n",
      " [3. 4.]\n",
      " [5. 6.]]\n"
     ]
    }
   ],
   "source": [
    "#reconstruct data\n",
    "smat=np.zeros([3,2])\n",
    "smat[0:2,0:2]=np.diag(s)\n",
    "n = np.matmul(u,np.matmul(smat,vt))\n",
    "print(n)"
   ]
  },
  {
   "cell_type": "code",
   "execution_count": null,
   "metadata": {},
   "outputs": [],
   "source": []
  },
  {
   "cell_type": "markdown",
   "metadata": {},
   "source": [
    "## 1.2 (b)"
   ]
  },
  {
   "cell_type": "code",
   "execution_count": 5,
   "metadata": {},
   "outputs": [
    {
     "name": "stdout",
     "output_type": "stream",
     "text": [
      "2x2 Eigen method = \n",
      " [[2. 4.]\n",
      " [4. 8.]]\n",
      "\n",
      "3x3 Eigen method = \n",
      " [[ 8. -4. 12.]\n",
      " [-4. 26. -6.]\n",
      " [12. -6. 18.]]\n",
      "\n"
     ]
    }
   ],
   "source": [
    "#2x2 and 3x3 covariance matrices: eigen method\n",
    "a = np.array([[7,5],[10,6]])\n",
    "am = np.mean(a,1)\n",
    "ap = a-np.array([[am[0]],[am[1]]])\n",
    "aeig = np.matmul(ap,ap.transpose())\n",
    "print('2x2 Eigen method = \\n', aeig);print('')\n",
    "\n",
    "b = np.array([[2,4,6],[5,10,3],[3,6,9]])\n",
    "bm = np.mean(b,1)\n",
    "bp = b-np.array([[bm[0]],[bm[1]],[bm[2]]])\n",
    "beig = np.matmul(bp,bp.transpose())\n",
    "print('3x3 Eigen method = \\n', beig);print('')\n",
    "\n",
    "\n",
    "\n",
    "\n",
    "\n"
   ]
  },
  {
   "cell_type": "code",
   "execution_count": 6,
   "metadata": {},
   "outputs": [],
   "source": [
    "#2x2 and 3x3 covariance matrices: SVD method"
   ]
  },
  {
   "cell_type": "code",
   "execution_count": 7,
   "metadata": {},
   "outputs": [
    {
     "name": "stdout",
     "output_type": "stream",
     "text": [
      "2x2 SVD method = \n",
      " [[2. 4.]\n",
      " [4. 8.]]\n",
      "\n",
      "3x3 SVD method = \n",
      " [[ 8. -4. 12.]\n",
      " [-4. 26. -6.]\n",
      " [12. -6. 18.]]\n"
     ]
    }
   ],
   "source": [
    "u,s,vt=np.linalg.svd(ap)\n",
    "SM=np.zeros([2,2])\n",
    "SM[0:2,0:2]=np.diag(s)\n",
    "T=np.matmul(u,SM);T1=np.matmul(SM.transpose(),u.transpose());\n",
    "RM1=np.matmul(T,T1)\n",
    "print('2x2 SVD method = \\n',RM1);print('')\n",
    "\n",
    "u,s,vt=np.linalg.svd(bp)\n",
    "SM=np.zeros([3,3])\n",
    "SM[0:3,0:3]=np.diag(s)\n",
    "T=np.matmul(u,SM);T2=np.matmul(SM.transpose(),u.transpose());\n",
    "RM=np.matmul(T,T2)\n",
    "print('3x3 SVD method = \\n',RM)"
   ]
  },
  {
   "cell_type": "code",
   "execution_count": 8,
   "metadata": {},
   "outputs": [
    {
     "name": "stdout",
     "output_type": "stream",
     "text": [
      "cov matrix = \n",
      " [[ 4. -2.  6.]\n",
      " [-2. 13. -3.]\n",
      " [ 6. -3.  9.]]\n"
     ]
    }
   ],
   "source": [
    "# covariance\n",
    "ac = np.cov(a)\n",
    "bc = np.cov(b)\n",
    "\n",
    "EVAL,EVEC=np.linalg.eig(bc);\n",
    "bcc=np.matmul(np.matmul(EVEC,np.diag(EVAL)),np.linalg.inv(EVEC))\n",
    "print('cov matrix = \\n',bcc)"
   ]
  },
  {
   "cell_type": "code",
   "execution_count": 9,
   "metadata": {},
   "outputs": [
    {
     "name": "stdout",
     "output_type": "stream",
     "text": [
      "DTD = \n",
      " [[ 14.  -4. -10.]\n",
      " [ -4.  16. -12.]\n",
      " [-10. -12.  22.]]\n",
      "Cov matrix = \n",
      " [[ 14.  -4. -10.]\n",
      " [ -4.  16. -12.]\n",
      " [-10. -12.  22.]]\n"
     ]
    }
   ],
   "source": [
    "# DTD\n",
    "EVAL,EVEC=np.linalg.eig(np.matmul(bp.transpose(),bp));\n",
    "bcc=np.matmul(np.matmul(EVEC,np.diag(EVAL)),np.linalg.inv(EVEC))\n",
    "print ('DTD = \\n',np.matmul(bp.transpose(),bp))\n",
    "print('Cov matrix = \\n',bcc)"
   ]
  },
  {
   "cell_type": "markdown",
   "metadata": {},
   "source": [
    "The eigen method can only be used with a square matrix because there needs to be a diagonal of eigenvalues. Non-square matrices do not have diagonals. This is why the SVD is used for non-diagonal matrices (like our 3x2) and was able to return 3 matrices. \n",
    "\n",
    "When using a 2x2 matrix, the DDT and SVD returns are equal, but they are double in a 3x3 matrix. We must multiply the DDT by 1/N-1 in order to return the correct covariance matrix. \n",
    "\n",
    "In order to reconstruct a full dataset, DTD is necessary. "
   ]
  },
  {
   "cell_type": "code",
   "execution_count": null,
   "metadata": {},
   "outputs": [],
   "source": []
  }
 ],
 "metadata": {
  "kernelspec": {
   "display_name": "Python 3",
   "language": "python",
   "name": "python3"
  },
  "language_info": {
   "codemirror_mode": {
    "name": "ipython",
    "version": 3
   },
   "file_extension": ".py",
   "mimetype": "text/x-python",
   "name": "python",
   "nbconvert_exporter": "python",
   "pygments_lexer": "ipython3",
   "version": "3.6.4"
  }
 },
 "nbformat": 4,
 "nbformat_minor": 2
}
